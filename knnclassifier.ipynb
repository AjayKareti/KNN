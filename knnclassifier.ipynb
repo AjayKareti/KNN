
    "#import necessary Libraries \n",
    "from sklearn.neighbors import KNeighborsClassifier\n",
    "from sklearn.model_selection import train_test_split\n",
    "from sklearn.metrics import accuracy_score\n",
    "import numpy as np\n",
    "import pandas as pd\n",
    "from sklearn.metrics import classification_report\n",
    "from sklearn.metrics import confusion_matrix\n",
    "from sklearn.datasets import load_iris\n",
    "from sklearn import preprocessing\n",
    "from sklearn import neighbors\n",
    "import matplotlib.pyplot as plt"
 
    "#loading datasets\n",
    "iris=load_iris()\n",
    "X=iris.data\n",
    "y=iris.target\n"

    "#split the data into training and test data \n",
    "X_train,X_test,y_train,y_test=train_test_split(X,y,stratify=y,random_state=0,train_size=0.5)"
  
[
    "# diasplay input data\n",
    "X"
     "# displaying the target values\n",
    "y"
  
    "#preprocessing the dataset\n",
    "scaler=preprocessing.StandardScaler().fit(X_train)\n",
    "X_train=scaler.transform(X_train)\n",
    "X_test=scaler.transform(X_test)"
   
    "# train the data using fit() function and predict the test set\n",
    "knn=neighbors.KNeighborsClassifier(n_neighbors=3)\n",
    "knn.fit(X_train,y_train)\n"
   
    "#making predictions"
    "y_pred=knn.predict(X_test)"

     
    "#displaying accuracy of the model\n",
    "print(accuracy_score(y_test,y_pred))"

    "# dispalying performance of the model\
    "print(\"Training set score:{:.3f}\".format(knn.score(X_train,y_train)))\n",
    "print(\"Test set score:{:.3f}\".format(knn.score(X_test,y_test)))"
  

